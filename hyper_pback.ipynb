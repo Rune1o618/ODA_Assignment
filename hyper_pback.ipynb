{
 "cells": [
  {
   "cell_type": "code",
   "execution_count": 3,
   "id": "c5c96859",
   "metadata": {},
   "outputs": [],
   "source": [
    "from sklearn.model_selection import RandomizedSearchCV\n",
    "from sklearn.base import BaseEstimator, ClassifierMixin\n",
    "\n",
    "\n",
    "def hyperparameter_pback(model, X, y):\n",
    "    \n",
    "    eta0 = [0.001, 0.01, 0.1, 1]\n",
    "    hyperparameters = dict(eta0=eta0)\n",
    "    \n",
    "    rdn = RandomizedSearchCV(model, hyperparameters, cv = 5, return_train_score = False)\n",
    "    best_model = rdn.fit(X, y)\n",
    "    \n",
    "    \n",
    "    return best_model.best_estimator_.get_params()['eta0']\n",
    "    "
   ]
  },
  {
   "cell_type": "code",
   "execution_count": null,
   "id": "f7ff9ae0",
   "metadata": {},
   "outputs": [],
   "source": []
  }
 ],
 "metadata": {
  "kernelspec": {
   "display_name": "Python 3",
   "language": "python",
   "name": "python3"
  },
  "language_info": {
   "codemirror_mode": {
    "name": "ipython",
    "version": 3
   },
   "file_extension": ".py",
   "mimetype": "text/x-python",
   "name": "python",
   "nbconvert_exporter": "python",
   "pygments_lexer": "ipython3",
   "version": "3.8.8"
  }
 },
 "nbformat": 4,
 "nbformat_minor": 5
}
