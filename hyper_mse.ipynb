{
 "cells": [
  {
   "cell_type": "code",
   "execution_count": null,
   "id": "aa3be72b",
   "metadata": {},
   "outputs": [],
   "source": [
    "from sklearn.model_selection import GridSearchCV\n",
    "from sklearn.base import BaseEstimator, ClassifierMixin\n",
    "\n",
    "\n",
    "def hyperparameter_MSE(model, X, y):\n",
    "    clf = GridSearchCV(model, {'epsilon' : [100, 10, 1, 0.1, 0.01, 0.001, 0.0001]}, cv = 5, return_train_score = False)\n",
    "    best_model = clf.fit(X, y)\n",
    "    \n",
    "    return best_model.best_estimator_.get_params()['epsilon']"
   ]
  }
 ],
 "metadata": {
  "kernelspec": {
   "display_name": "Python 3",
   "language": "python",
   "name": "python3"
  },
  "language_info": {
   "codemirror_mode": {
    "name": "ipython",
    "version": 3
   },
   "file_extension": ".py",
   "mimetype": "text/x-python",
   "name": "python",
   "nbconvert_exporter": "python",
   "pygments_lexer": "ipython3",
   "version": "3.8.8"
  }
 },
 "nbformat": 4,
 "nbformat_minor": 5
}
