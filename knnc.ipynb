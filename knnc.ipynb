{
 "cells": [
  {
   "cell_type": "markdown",
   "id": "2c80c54b",
   "metadata": {},
   "source": [
    "## Nearest Neighbors Classifier Function"
   ]
  },
  {
   "cell_type": "code",
   "execution_count": null,
   "id": "fed6303d",
   "metadata": {},
   "outputs": [],
   "source": [
    "from sklearn.neighbors import KNeighborsClassifier\n",
    "from sklearn.base import BaseEstimator, ClassifierMixin\n",
    "from sklearn.model_selection import GridSearchCV\n",
    "from sklearn import metrics\n",
    "\n",
    "def KNearestNeighborsClassifer(X_train, X_test, y_train, y_test):\n",
    "    \n",
    "    n_samples, n_features = X_train.shape\n",
    "    n_neighbors = [1, 2, 3, 4, 5]\n",
    "    if n_features == 2 and n_samples > 10000:\n",
    "        n_neighbors = [1, 2, 3, 4, 5, 100, 300, 310, 320, 340, 350, 360, 370, 380, 400]\n",
    "    \n",
    "    hyperparameters = dict(n_neighbors=n_neighbors)\n",
    "    \n",
    "    model = KNeighborsClassifier(p=2)\n",
    "    clf = GridSearchCV(model, hyperparameters)\n",
    "    best_model = clf.fit(X_train,y_train.ravel())\n",
    "    \n",
    "    print('Best n_neighbors:', best_model.best_estimator_.get_params()['n_neighbors'])\n",
    "    \n",
    "    final_model = KNeighborsClassifier(n_neighbors=best_model.best_estimator_.get_params()['n_neighbors'], p=2)\n",
    "    final_model.fit(X_train, y_train.ravel())\n",
    "    y_pred = final_model.predict(X_test)\n",
    "    \n",
    "    print(f\"Accuracy : {metrics.accuracy_score(y_test, y_pred)* 100} %\")\n",
    "    return metrics.accuracy_score(y_test, y_pred)"
   ]
  }
 ],
 "metadata": {
  "kernelspec": {
   "display_name": "Python 3",
   "language": "python",
   "name": "python3"
  },
  "language_info": {
   "codemirror_mode": {
    "name": "ipython",
    "version": 3
   },
   "file_extension": ".py",
   "mimetype": "text/x-python",
   "name": "python",
   "nbconvert_exporter": "python",
   "pygments_lexer": "ipython3",
   "version": "3.8.8"
  }
 },
 "nbformat": 4,
 "nbformat_minor": 5
}
